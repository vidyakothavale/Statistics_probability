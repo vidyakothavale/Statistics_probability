{
 "cells": [
  {
   "cell_type": "code",
   "execution_count": 3,
   "metadata": {
    "id": "3_fuC2JFT-bE"
   },
   "outputs": [],
   "source": [
    "from scipy.stats import binom,poisson,nbinom,norm,uniform\n",
    "import matplotlib.pyplot as plt\n",
    "import pandas as pd\n",
    "import numpy as np"
   ]
  },
  {
   "cell_type": "markdown",
   "metadata": {
    "id": "B801wE2GT-bP"
   },
   "source": [
    "# Binomial Distribution"
   ]
  },
  {
   "cell_type": "markdown",
   "metadata": {
    "id": "xlWFEDDJT-bU"
   },
   "source": [
    "### Example 2 \n",
    "Hospital Record show that of patient from a certain Disease 75% die of it \n",
    "What is the probability that of 6 randomly selected patients, 4 will recover?\n",
    "\n"
   ]
  },
  {
   "cell_type": "code",
   "execution_count": 4,
   "metadata": {
    "id": "IxiDi1NhT-bW",
    "outputId": "69af39d7-8d76-4088-c889-e9f5132ba2bd"
   },
   "outputs": [
    {
     "data": {
      "text/plain": [
       "0.032958984375"
      ]
     },
     "execution_count": 4,
     "metadata": {},
     "output_type": "execute_result"
    }
   ],
   "source": [
    "binom.pmf(4,6,0.25)  # p= 0.25 , q= 0.75 , n = 6 , x= 4"
   ]
  },
  {
   "cell_type": "markdown",
   "metadata": {},
   "source": [
    "#### Mean & Variance "
   ]
  },
  {
   "cell_type": "code",
   "execution_count": 5,
   "metadata": {},
   "outputs": [
    {
     "name": "stdout",
     "output_type": "stream",
     "text": [
      "Mean of Binomial: 1.5\n",
      "variance of Binomial: 1.125\n"
     ]
    }
   ],
   "source": [
    "n = 6\n",
    "p = 0.25\n",
    "q = 1-p\n",
    "mean = n*p\n",
    "variance = n*p*q\n",
    "print('Mean of Binomial:',mean)\n",
    "print('variance of Binomial:',variance)"
   ]
  },
  {
   "cell_type": "markdown",
   "metadata": {
    "id": "Rkzy72T8T-bb"
   },
   "source": [
    "### Example 2 \n",
    "A manufacturer of metal pistons finds that on the average, 12% of his pistons are Success \n",
    "because they are either oversize or undersize.\n",
    "\n",
    "What is the probability that a batch of 10 pistons will contain\n",
    "\n",
    "* no more than 2 rejects? \n",
    "\n",
    "* at least 2 rejects?\n"
   ]
  },
  {
   "cell_type": "markdown",
   "metadata": {
    "id": "XwkDmGtnT-be"
   },
   "source": [
    "* n = 10 , p=0.12 , x=0,1,2 "
   ]
  },
  {
   "cell_type": "code",
   "execution_count": 6,
   "metadata": {
    "id": "e_TQo2dwT-bh",
    "outputId": "7c16f67d-2b2b-4f0d-8437-21b1b9a0cfe7"
   },
   "outputs": [
    {
     "data": {
      "text/plain": [
       "0.8913182062780249"
      ]
     },
     "execution_count": 6,
     "metadata": {},
     "output_type": "execute_result"
    }
   ],
   "source": [
    "binom.pmf(0,10,0.12)+binom.pmf(1,10,0.12)+binom.pmf(2,10,0.12)"
   ]
  },
  {
   "cell_type": "code",
   "execution_count": 7,
   "metadata": {
    "id": "JKowglcvT-bn",
    "outputId": "d05656bd-4d6e-43a4-b796-0f657b828511",
    "scrolled": true
   },
   "outputs": [
    {
     "data": {
      "text/plain": [
       "0.8913182062780246"
      ]
     },
     "execution_count": 7,
     "metadata": {},
     "output_type": "execute_result"
    }
   ],
   "source": [
    "binom.cdf(2,10,0.12)"
   ]
  },
  {
   "cell_type": "code",
   "execution_count": 8,
   "metadata": {
    "id": "hAW2Q6QOT-bq",
    "outputId": "dd42cfd7-d155-4a6a-ae01-9e6c9cf2e4f5"
   },
   "outputs": [
    {
     "data": {
      "text/plain": [
       "0.34172496579595857"
      ]
     },
     "execution_count": 8,
     "metadata": {},
     "output_type": "execute_result"
    }
   ],
   "source": [
    "1-binom.cdf(1,10,0.12)"
   ]
  },
  {
   "cell_type": "markdown",
   "metadata": {
    "id": "JubYseb3T-bs"
   },
   "source": [
    "# poisson Distribution"
   ]
  },
  {
   "cell_type": "markdown",
   "metadata": {
    "id": "u_u2StcPT-bt"
   },
   "source": [
    "### Example 1\n",
    "\n",
    "* Suppose P is the no. of car per minute passing through a certain road junction between 4 to 5 pm and p has poison distribution with mean 3. \n",
    "\n",
    "* What is probability of observing less than 3 cars during any given minute in this internal?"
   ]
  },
  {
   "cell_type": "code",
   "execution_count": 9,
   "metadata": {
    "id": "4vS7V-k7T-bv",
    "outputId": "5d5adcdd-2c14-428a-d8c6-93e650e9f135"
   },
   "outputs": [
    {
     "data": {
      "text/plain": [
       "0.42319008112684353"
      ]
     },
     "execution_count": 9,
     "metadata": {},
     "output_type": "execute_result"
    }
   ],
   "source": [
    "poisson.pmf(0,3)+poisson.pmf(1,3)+poisson.pmf(2,3)  # lambda = 3  x = 0 , 1 , 2 < 3"
   ]
  },
  {
   "cell_type": "code",
   "execution_count": 10,
   "metadata": {
    "id": "mI2sAhSbT-bv",
    "outputId": "f7477062-e2b1-4d01-d800-9e48445f2147"
   },
   "outputs": [
    {
     "data": {
      "text/plain": [
       "0.42319008112684364"
      ]
     },
     "execution_count": 10,
     "metadata": {},
     "output_type": "execute_result"
    }
   ],
   "source": [
    "poisson.cdf(2,3)  # lambda = 3  x = 0 , 1 , 2 < 3"
   ]
  },
  {
   "cell_type": "markdown",
   "metadata": {},
   "source": [
    "#### Mean & Variance  "
   ]
  },
  {
   "cell_type": "code",
   "execution_count": 11,
   "metadata": {},
   "outputs": [
    {
     "name": "stdout",
     "output_type": "stream",
     "text": [
      "Mean of Poisson: 3\n",
      "variance of Poisson: 3\n"
     ]
    }
   ],
   "source": [
    "x = 3\n",
    "mean = x\n",
    "variance = x\n",
    "print('Mean of Poisson:',mean)\n",
    "print('variance of Poisson:',variance)"
   ]
  },
  {
   "cell_type": "markdown",
   "metadata": {
    "id": "Jfb2CdDMT-bw"
   },
   "source": [
    "### Example 2\n",
    "\n",
    "* A traffic office imposes on an average 5 no. of penalties daily on the traffic volunteers. \n",
    "* Assuming that the no of penalties on different day is independent & follow a Poisson distribution. \n",
    "* Find the prob. that there will less than 4 penalties in a day."
   ]
  },
  {
   "cell_type": "code",
   "execution_count": null,
   "metadata": {
    "id": "KrLkSi7TT-bx",
    "outputId": "5b5a02c1-eb9d-46a3-a91c-0370561676d3"
   },
   "outputs": [
    {
     "data": {
      "text/plain": [
       "0.2650259152973616"
      ]
     },
     "execution_count": 8,
     "metadata": {},
     "output_type": "execute_result"
    }
   ],
   "source": [
    " poisson.cdf(3,5) # lambda = 5   x = 0,1,2,3"
   ]
  },
  {
   "cell_type": "markdown",
   "metadata": {
    "id": "_y5ekXQqT-by"
   },
   "source": [
    "# Geometric Distribution"
   ]
  },
  {
   "cell_type": "markdown",
   "metadata": {
    "id": "QKCAmdRQT-by"
   },
   "source": [
    "### Example 1\n",
    "\n",
    "A European roulette has 18 red slot, 18 black slot & 1 green slot. It is reasonable to assume that the ball is equally likely to land in any of the 37 slot. What Is the probability that the 1st time the ball lands a red slot occurs on the 5th spin?"
   ]
  },
  {
   "cell_type": "code",
   "execution_count": null,
   "metadata": {
    "id": "t0maL18cT-b0",
    "outputId": "413e9609-a18f-4bad-d65c-548cddb7627f"
   },
   "outputs": [
    {
     "data": {
      "text/plain": [
       "0.03382815318716235"
      ]
     },
     "execution_count": 9,
     "metadata": {},
     "output_type": "execute_result"
    }
   ],
   "source": [
    "nbinom.pmf(k=4, n=1, p=18/37)"
   ]
  },
  {
   "cell_type": "markdown",
   "metadata": {
    "id": "9GC_LzfET-b0"
   },
   "source": [
    "### Example 2 \n",
    "* In a large population of adult, 30% have received CPR training. \n",
    "* It adult from this population are selected randomly, what is the probability that the 6th person sampled is the 1st that has received CPR training?"
   ]
  },
  {
   "cell_type": "code",
   "execution_count": null,
   "metadata": {
    "id": "1OX2euu9T-b1",
    "outputId": "119be38f-14ed-4e1a-f484-0040496be992"
   },
   "outputs": [
    {
     "data": {
      "text/plain": [
       "0.05042099999999999"
      ]
     },
     "execution_count": 10,
     "metadata": {},
     "output_type": "execute_result"
    }
   ],
   "source": [
    "nbinom.pmf(k=5, n=1, p=0.3)"
   ]
  },
  {
   "cell_type": "markdown",
   "metadata": {
    "id": "9UzMpXfUT-b3"
   },
   "source": [
    "# Uniform Distribution"
   ]
  },
  {
   "cell_type": "code",
   "execution_count": null,
   "metadata": {
    "id": "BOSvVylGT-b3"
   },
   "outputs": [],
   "source": [
    "def uniform(a,b):\n",
    "    mean=(b+a)/2\n",
    "    variance = ((b-a)**2)/12\n",
    "    return mean,variance"
   ]
  },
  {
   "cell_type": "code",
   "execution_count": null,
   "metadata": {
    "id": "fGmUbgEWT-b5",
    "outputId": "e859f141-19cf-47e4-ae59-07aefac27a51"
   },
   "outputs": [
    {
     "data": {
      "text/plain": [
       "(7.5, 2.0833333333333335)"
      ]
     },
     "execution_count": 12,
     "metadata": {},
     "output_type": "execute_result"
    }
   ],
   "source": [
    "uniform(5,10) # a =5 , b= 10"
   ]
  },
  {
   "cell_type": "code",
   "execution_count": null,
   "metadata": {
    "id": "VElHy_jbT-b6",
    "outputId": "757b1c54-4b0a-495c-961b-c97254a59985"
   },
   "outputs": [
    {
     "data": {
      "text/plain": [
       "0.4"
      ]
     },
     "execution_count": 33,
     "metadata": {},
     "output_type": "execute_result"
    }
   ],
   "source": [
    "# from scipy.stats import uniform\n",
    "uniform.cdf(11,5,15)"
   ]
  },
  {
   "cell_type": "code",
   "execution_count": null,
   "metadata": {
    "id": "egH-uV2nT-b7",
    "outputId": "51778e76-53ec-4f71-9e3f-af9acb3053d0"
   },
   "outputs": [
    {
     "data": {
      "text/plain": [
       "0.8"
      ]
     },
     "execution_count": 21,
     "metadata": {},
     "output_type": "execute_result"
    }
   ],
   "source": [
    "# from scipy.stats import uniform\n",
    "1-uniform.cdf(8,5,15)"
   ]
  },
  {
   "cell_type": "code",
   "execution_count": null,
   "metadata": {
    "id": "yhwQnxznT-b8",
    "outputId": "eddbc358-808f-450f-ecd0-c54bfa01d75c"
   },
   "outputs": [
    {
     "data": {
      "text/plain": [
       "0.2666666666666667"
      ]
     },
     "execution_count": 41,
     "metadata": {},
     "output_type": "execute_result"
    }
   ],
   "source": [
    "(1-uniform.cdf(8,5,15))-(1-uniform.cdf(12,5,15))"
   ]
  },
  {
   "cell_type": "markdown",
   "metadata": {
    "id": "_AeHlWH0T-cB"
   },
   "source": [
    "# Normal Distribution"
   ]
  },
  {
   "cell_type": "markdown",
   "metadata": {
    "id": "zwwxYXGsT-cD"
   },
   "source": [
    "#### Example 1"
   ]
  },
  {
   "cell_type": "markdown",
   "metadata": {
    "id": "n7MFrkCXT-cE"
   },
   "source": [
    "* The height of student in xyz College Follows normal distribution with \n",
    "* mean height of 155 cms & Standard deviation of height as 5 cm.\n",
    "    1.\tFind the chance that the height of randomly chosen student from the college exceed 158 cms.\n",
    "    2.\tThe percentage of student with height less than 150 cms.\n"
   ]
  },
  {
   "cell_type": "code",
   "execution_count": null,
   "metadata": {
    "id": "Y9Iq3djBT-cF",
    "scrolled": true
   },
   "outputs": [],
   "source": [
    "#1.\n",
    "1-norm.cdf(158,loc=155, scale=5)  # X> 158 "
   ]
  },
  {
   "cell_type": "code",
   "execution_count": null,
   "metadata": {
    "id": "I52KQvKMT-cG"
   },
   "outputs": [],
   "source": [
    "#1.\n",
    "norm.cdf(150,loc=155, scale=5)  # X < 150 "
   ]
  },
  {
   "cell_type": "code",
   "execution_count": null,
   "metadata": {
    "id": "xlTt-sTpU3zi"
   },
   "outputs": [],
   "source": [
    "#1.\n",
    "norm.pdf(150,loc=155, scale=5)  # X = 150 "
   ]
  },
  {
   "cell_type": "markdown",
   "metadata": {
    "id": "fqM5kVobT-cH"
   },
   "source": [
    "#### Example 2"
   ]
  },
  {
   "cell_type": "markdown",
   "metadata": {
    "id": "wyhN-gqzT-cH"
   },
   "source": [
    "* A company has 500 employees, salary of whom is normally distributed \n",
    "* with an average salary Rs 40000 and standard deviation of Rs 6000 . \n",
    "* Suppose you pick a random employee from the 500 employees,\n",
    "* what is probability that he or she will earn less than Rs 30000\n"
   ]
  },
  {
   "cell_type": "code",
   "execution_count": null,
   "metadata": {
    "id": "G56zGeX3T-cI",
    "scrolled": true
   },
   "outputs": [],
   "source": [
    "#1.\n",
    "norm.cdf(30000,loc=40000, scale=6000)"
   ]
  },
  {
   "cell_type": "markdown",
   "metadata": {
    "id": "sb1AItHUT-cJ"
   },
   "source": [
    "#### Example 3"
   ]
  },
  {
   "cell_type": "markdown",
   "metadata": {
    "id": "M1mmSpFYT-cK"
   },
   "source": [
    "The Average Score of Virat is 53 & standard deviation is 40 \n",
    "assume run scores by kohli is normally distribution find the probabilities of \n",
    "kohli hitting more than 100 run in next inning "
   ]
  },
  {
   "cell_type": "code",
   "execution_count": null,
   "metadata": {
    "id": "f_wXfCN-T-cM"
   },
   "outputs": [],
   "source": [
    "#1.\n",
    "1-norm.cdf(100,loc=53, scale=40)"
   ]
  }
 ],
 "metadata": {
  "colab": {
   "collapsed_sections": [],
   "name": "Probability Distribution.ipynb",
   "provenance": []
  },
  "kernelspec": {
   "display_name": "Python 3",
   "language": "python",
   "name": "python3"
  },
  "language_info": {
   "codemirror_mode": {
    "name": "ipython",
    "version": 3
   },
   "file_extension": ".py",
   "mimetype": "text/x-python",
   "name": "python",
   "nbconvert_exporter": "python",
   "pygments_lexer": "ipython3",
   "version": "3.8.5"
  }
 },
 "nbformat": 4,
 "nbformat_minor": 1
}

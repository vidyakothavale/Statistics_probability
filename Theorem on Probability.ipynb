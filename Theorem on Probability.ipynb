{
 "cells": [
  {
   "cell_type": "markdown",
   "metadata": {},
   "source": [
    "# Additional Theorem"
   ]
  },
  {
   "cell_type": "markdown",
   "metadata": {},
   "source": [
    "####  The probability a new railway budget will have an increase in 1st class fare is 0.75, increase in 2nd class fare is 0.6, increase in both is 0.45. find the probability that the new railway budget will have a increase in \n",
    "- first- or second-class fare.\n",
    "- neither first or second fare.\n",
    " "
   ]
  },
  {
   "cell_type": "markdown",
   "metadata": {},
   "source": [
    "- first- or second-class fare.\n"
   ]
  },
  {
   "cell_type": "code",
   "execution_count": 3,
   "metadata": {},
   "outputs": [
    {
     "data": {
      "text/plain": [
       "0.9000000000000001"
      ]
     },
     "execution_count": 3,
     "metadata": {},
     "output_type": "execute_result"
    }
   ],
   "source": [
    "a = 0.75\n",
    "b = 0.6\n",
    "a_And_b = 0.45\n",
    "A_union_B = a + b - a_And_b\n",
    "A_union_B"
   ]
  },
  {
   "cell_type": "markdown",
   "metadata": {},
   "source": [
    "- neither first or second fare.\n"
   ]
  },
  {
   "cell_type": "code",
   "execution_count": 7,
   "metadata": {},
   "outputs": [
    {
     "data": {
      "text/plain": [
       "0.1"
      ]
     },
     "execution_count": 7,
     "metadata": {},
     "output_type": "execute_result"
    }
   ],
   "source": [
    "Not_A_union_B = round(1- A_union_B,1)\n",
    "Not_A_union_B"
   ]
  },
  {
   "cell_type": "markdown",
   "metadata": {},
   "source": [
    "### In a group of 80 person, 30 western music, 40 like Indian music, 60 like at least one of the two type of music. Find the probability that a person selected at random from this group-\n",
    "1.\tLike both type music.\n",
    "2.\tDoes not like any type of music.\n"
   ]
  },
  {
   "cell_type": "code",
   "execution_count": 9,
   "metadata": {},
   "outputs": [
    {
     "name": "stdout",
     "output_type": "stream",
     "text": [
      "0.125\n"
     ]
    }
   ],
   "source": [
    "A = 30 / 80\n",
    "B = 40 / 80\n",
    "A_union_B = 60/80\n",
    "\n",
    "a_And_b = A + B - A_union_B \n",
    "print(a_And_b)"
   ]
  },
  {
   "cell_type": "code",
   "execution_count": 10,
   "metadata": {},
   "outputs": [
    {
     "data": {
      "text/plain": [
       "0.25"
      ]
     },
     "execution_count": 10,
     "metadata": {},
     "output_type": "execute_result"
    }
   ],
   "source": [
    "Not_like = 1- A_union_B\n",
    "Not_like"
   ]
  },
  {
   "cell_type": "markdown",
   "metadata": {},
   "source": [
    "# Multiplication  Theorem"
   ]
  },
  {
   "cell_type": "code",
   "execution_count": 13,
   "metadata": {},
   "outputs": [
    {
     "data": {
      "text/plain": [
       "0.2"
      ]
     },
     "execution_count": 13,
     "metadata": {},
     "output_type": "execute_result"
    }
   ],
   "source": [
    "Over_30 = 4/5\n",
    "Female = 2/5\n",
    "Over_30_and_Female  = 1/2\n",
    "Female_Over_30 = Female * Over_30_and_Female\n",
    "Female_Over_30"
   ]
  },
  {
   "cell_type": "markdown",
   "metadata": {},
   "source": [
    "# Bayes Theorem"
   ]
  },
  {
   "cell_type": "markdown",
   "metadata": {},
   "source": [
    "In factory producing bottle, machine A1, A2 & A3 manufacture 25%, 35% & 40% respectively of the total output of their output 5%, 4% & 2% bottles are defective respectively. A bottle was drawn at random from the output and is found to be defective. What is the probability that it was manufactured by machine A2?"
   ]
  },
  {
   "cell_type": "code",
   "execution_count": 15,
   "metadata": {},
   "outputs": [
    {
     "data": {
      "text/plain": [
       "0.4057971014492753"
      ]
     },
     "execution_count": 15,
     "metadata": {},
     "output_type": "execute_result"
    }
   ],
   "source": [
    "A1 = 0.25\n",
    "A2 = 0.35\n",
    "A3 = 0.40\n",
    "\n",
    "B_A1 = 0.05\n",
    "B_A2 = 0.04\n",
    "B_A3 = 0.02\n",
    "\n",
    "Prediction = ((A2*B_A2)/(A1*B_A1+A2*B_A2+A3*B_A3))\n",
    "Prediction"
   ]
  },
  {
   "cell_type": "markdown",
   "metadata": {},
   "source": [
    "Marie is getting married tomorrow, at an outdoor ceremony in the desert. In recent years, it has rained only 5 days each year. Unfortunately, the weatherman has predicted rain for tomorrow. When it actually rains, the weatherman correctly forecasts rain 90% of the time. When it doesn't rain, he incorrectly forecasts rain 10% of the time. What is the probability that it will rain on the day of Marie's wedding?"
   ]
  },
  {
   "cell_type": "code",
   "execution_count": 19,
   "metadata": {},
   "outputs": [
    {
     "data": {
      "text/plain": [
       "0.1111111111111111"
      ]
     },
     "execution_count": 19,
     "metadata": {},
     "output_type": "execute_result"
    }
   ],
   "source": [
    "A1 = 5/365\n",
    "A2 = 360 / 365\n",
    "\n",
    "B_A1 = 0.9\n",
    "B_A2 = 0.1\n",
    "\n",
    "Prediction = ((A1*B_A1)/(A1*B_A1+A2*B_A2))\n",
    "Prediction"
   ]
  },
  {
   "cell_type": "markdown",
   "metadata": {},
   "source": [
    "# Mathematical Expectation"
   ]
  },
  {
   "cell_type": "markdown",
   "metadata": {},
   "source": [
    "Mr. Yogesh is planning to start a new business he estimated that he will make a profit of Rs. 5 lakh with prob. of 0.4, a Profit of Rs. 2 lakh with prob. of 0.3 \n",
    "but a loss of Rs. 2 Lakhs with prob. of 0.3. What is Yogesh’s expectation from the business? \n"
   ]
  },
  {
   "cell_type": "code",
   "execution_count": 30,
   "metadata": {},
   "outputs": [
    {
     "name": "stdout",
     "output_type": "stream",
     "text": [
      "Mr. Yogesh Expectation From Business : 2.0 Lakhs\n"
     ]
    }
   ],
   "source": [
    "Profit = [ 5,2,-2]\n",
    "Probability = [ 0.4,0.3,0.3]\n",
    "import numpy as np \n",
    "Mean = np.dot(Profit,Probability)\n",
    "print('Mr. Yogesh Expectation From Business :' ,Mean,'Lakhs')"
   ]
  },
  {
   "cell_type": "markdown",
   "metadata": {},
   "source": [
    "X is a discrete r.v with PMF as given below\n",
    "* X =    2\t3\t4\t5\n",
    "* P(x)=\t0.2\t0.1\t0.4\t0.3\n"
   ]
  },
  {
   "cell_type": "code",
   "execution_count": 36,
   "metadata": {},
   "outputs": [
    {
     "name": "stdout",
     "output_type": "stream",
     "text": [
      "Expectation From Business : 3.8\n"
     ]
    }
   ],
   "source": [
    "Profit = [2,3,4,5]\n",
    "Probability = [0.2,0.1,0.4,0.3]\n",
    "import numpy as np \n",
    "Mean = np.dot(Profit,Probability)\n",
    "print('Expectation From Business :' ,round(Mean,1))"
   ]
  },
  {
   "cell_type": "code",
   "execution_count": null,
   "metadata": {},
   "outputs": [],
   "source": [
    "Variance = ()"
   ]
  }
 ],
 "metadata": {
  "kernelspec": {
   "display_name": "Python 3",
   "language": "python",
   "name": "python3"
  },
  "language_info": {
   "codemirror_mode": {
    "name": "ipython",
    "version": 3
   },
   "file_extension": ".py",
   "mimetype": "text/x-python",
   "name": "python",
   "nbconvert_exporter": "python",
   "pygments_lexer": "ipython3",
   "version": "3.8.5"
  }
 },
 "nbformat": 4,
 "nbformat_minor": 4
}

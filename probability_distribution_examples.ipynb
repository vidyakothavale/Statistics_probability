{
 "cells": [
  {
   "cell_type": "code",
   "execution_count": 2,
   "id": "607db951",
   "metadata": {},
   "outputs": [
    {
     "data": {
      "text/plain": [
       "[-3.5999999999999996,\n",
       " -1.5999999999999996,\n",
       " 0.40000000000000036,\n",
       " 2.4000000000000004]"
      ]
     },
     "execution_count": 2,
     "metadata": {},
     "output_type": "execute_result"
    }
   ],
   "source": [
    "x=[2,3,4,5]\n",
    "output=[]\n",
    "mean=3.8\n",
    "for i in x:\n",
    "        out1= (i-mean)*2\n",
    "    \n",
    "        output.append(out1)\n",
    "output      \n",
    "       "
   ]
  },
  {
   "cell_type": "markdown",
   "id": "97233590",
   "metadata": {},
   "source": [
    "# Binomial distribution"
   ]
  },
  {
   "cell_type": "code",
   "execution_count": null,
   "id": "e98c82cf",
   "metadata": {},
   "outputs": [],
   "source": [
    "Que -  A box of candies has many different colors in it. \n",
    "There is a 15% chance of getting a pink candy .\n",
    "what is the probability that exactly 4 candies in a box are pink out of 10?\n",
    "n = 10, p=0.15, q=0.85, x=4"
   ]
  },
  {
   "cell_type": "code",
   "execution_count": 4,
   "id": "3f963a4c",
   "metadata": {},
   "outputs": [],
   "source": [
    "from scipy.stats import binom,hypergeom,poisson,nbinom,expon,norm"
   ]
  },
  {
   "cell_type": "code",
   "execution_count": 6,
   "id": "c3df4855",
   "metadata": {},
   "outputs": [
    {
     "data": {
      "text/plain": [
       "0.04009570787988276"
      ]
     },
     "execution_count": 6,
     "metadata": {},
     "output_type": "execute_result"
    }
   ],
   "source": [
    "binom.pmf(4,10,0.15)"
   ]
  },
  {
   "cell_type": "code",
   "execution_count": 16,
   "id": "5bbd8891",
   "metadata": {},
   "outputs": [
    {
     "data": {
      "text/plain": [
       "0.30198988800000004"
      ]
     },
     "execution_count": 16,
     "metadata": {},
     "output_type": "execute_result"
    }
   ],
   "source": [
    "#Q1\n",
    "''' If from six to seven in the evening one telephone line in every 5 is \n",
    "engaged in a conversation: what is the probability that when 10 telephone numbers \n",
    "are chosen at random, \n",
    "only 2 are in use?'''\n",
    "\n",
    "\n",
    "binom.pmf(2,10,1/5)"
   ]
  },
  {
   "cell_type": "code",
   "execution_count": 17,
   "id": "e73c2f74",
   "metadata": {},
   "outputs": [
    {
     "data": {
      "text/plain": [
       "0.20132659199999978"
      ]
     },
     "execution_count": 17,
     "metadata": {},
     "output_type": "execute_result"
    }
   ],
   "source": [
    "#Q2\n",
    "'''In the old days, there was a probability of 0.8 of success in any attempt to make a \n",
    "telephone call. (This often depended on the importance of the person making the call,\n",
    "or the operator's curiosity!)\n",
    "Calculate the probability of having 7 successes in 10 attempts.\n",
    "'''\n",
    "\n",
    "\n",
    "binom.pmf(7,10,0.8)"
   ]
  },
  {
   "cell_type": "code",
   "execution_count": 29,
   "id": "4a32646f",
   "metadata": {},
   "outputs": [
    {
     "data": {
      "text/plain": [
       "0.8964843749999999"
      ]
     },
     "execution_count": 29,
     "metadata": {},
     "output_type": "execute_result"
    }
   ],
   "source": [
    "#Q4\n",
    "'''The probability that a person can achieve a target is 3/4. \n",
    "The count of tries is 5. What is the probability that he will \n",
    "attain the target at least thrice? '''\n",
    "\n",
    "binom.pmf(3,5,3/4)+binom.pmf(4,5,3/4)+binom.pmf(5,5,3/4)"
   ]
  },
  {
   "cell_type": "code",
   "execution_count": 47,
   "id": "7c271565",
   "metadata": {},
   "outputs": [
    {
     "name": "stdout",
     "output_type": "stream",
     "text": [
      "0.8587340256999999\n",
      "0.008472052800000074\n"
     ]
    }
   ],
   "source": [
    "#Q5\n",
    "\n",
    "'''A pharmaceutical lab states that a drug causes negative side \n",
    "effects in 3 of every 100 patients. To confirm this affirmation, \n",
    "another laboratory chooses 5 people at random who have consumed the drug. \n",
    "What is the probability of the following events?\n",
    "            1.None of the five patients experience side effects.\n",
    "            2.At least two experience side effects.'''\n",
    "\n",
    "#1.\n",
    "first=binom.pmf(0,5,0.03)\n",
    "\n",
    "second=1-(binom.pmf(0,5,0.03)+binom.pmf(1,5,0.03))\n",
    "print(first)\n",
    "print(second)"
   ]
  },
  {
   "cell_type": "code",
   "execution_count": 48,
   "id": "346e2999",
   "metadata": {},
   "outputs": [
    {
     "data": {
      "text/plain": [
       "0.26367187499999983"
      ]
     },
     "execution_count": 48,
     "metadata": {},
     "output_type": "execute_result"
    }
   ],
   "source": [
    "#Q7\n",
    "'''Your basketball team is playing a series of 5 games against your opponent.                 \n",
    "The winner is those who wins more games (out of 5).Let assume that your team is    \n",
    "much more skilled and has 75% chances of winning. It means there is a 25% chance of losing.\n",
    "What is the probability of your team get 3 wins?\n",
    "'''\n",
    "binom.pmf(3,5,0.75)\n",
    "\n"
   ]
  },
  {
   "cell_type": "code",
   "execution_count": null,
   "id": "acbefb7e",
   "metadata": {},
   "outputs": [],
   "source": [
    "#Q8"
   ]
  },
  {
   "cell_type": "code",
   "execution_count": 64,
   "id": "7f3a9148",
   "metadata": {},
   "outputs": [
    {
     "name": "stdout",
     "output_type": "stream",
     "text": [
      "0.03295898437499997\n",
      "0.8220214843749999\n"
     ]
    }
   ],
   "source": [
    "#Q9\n",
    "'''If X is binomially distributed with 6 trials and a probability \n",
    "of success equal to 1 /4 at each attempt, what is the probability of:\n",
    " (a) exactly 4 successes \n",
    " (b) at least one success? '''\n",
    "\n",
    "a=binom.pmf(4,6,1/4)\n",
    "\n",
    "b=binom.pmf(1,6,1/4)+binom.pmf(2,6,1/4)+binom.pmf(3,6,1/4)+binom.pmf(4,6,1/4)+binom.pmf(5,6,1/4)+binom.pmf(6,6,1/4)\n",
    "#or b= 1-binom.pmf(0,6,1/4)\n",
    "print(a)\n",
    "print(b)"
   ]
  },
  {
   "cell_type": "code",
   "execution_count": 54,
   "id": "96954d66",
   "metadata": {},
   "outputs": [
    {
     "data": {
      "text/plain": [
       "0.17886305056987964"
      ]
     },
     "execution_count": 54,
     "metadata": {},
     "output_type": "execute_result"
    }
   ],
   "source": [
    "#Q10\n",
    "'''There are 10 balls  in a bowl ,  3 of the balls are red and 7 of them are blue. \n",
    "If  drawing a red ball is defined as success and sampling is with replacement, \n",
    "find the probability of getting 5 red balls in 20 trials.'''\n",
    "\n",
    "\n",
    "binom.pmf(5,20,0.3)"
   ]
  },
  {
   "cell_type": "code",
   "execution_count": null,
   "id": "bef48325",
   "metadata": {},
   "outputs": [],
   "source": []
  },
  {
   "cell_type": "code",
   "execution_count": null,
   "id": "6a035b4d",
   "metadata": {},
   "outputs": [],
   "source": []
  },
  {
   "cell_type": "markdown",
   "id": "d05874f3",
   "metadata": {},
   "source": [
    "# poission distribution"
   ]
  },
  {
   "cell_type": "code",
   "execution_count": null,
   "id": "0e755bcf",
   "metadata": {},
   "outputs": [],
   "source": [
    "Que- An automobile company has average defects per unit (DPU) 0f 0.3, \n",
    "what is the probability they would find 3 defects in a vehicle? \n",
    "Here we can use Poisson distribution to calculate the probability.\n"
   ]
  },
  {
   "cell_type": "code",
   "execution_count": 9,
   "id": "91ff983d",
   "metadata": {},
   "outputs": [
    {
     "data": {
      "text/plain": [
       "0.0033336819930677277"
      ]
     },
     "execution_count": 9,
     "metadata": {},
     "output_type": "execute_result"
    }
   ],
   "source": [
    "poisson.pmf(3,0.3)"
   ]
  },
  {
   "cell_type": "code",
   "execution_count": null,
   "id": "b2e1fb73",
   "metadata": {},
   "outputs": [],
   "source": []
  },
  {
   "cell_type": "code",
   "execution_count": 66,
   "id": "0eba87e7",
   "metadata": {},
   "outputs": [
    {
     "data": {
      "text/plain": [
       "0.1403738958142805"
      ]
     },
     "execution_count": 66,
     "metadata": {},
     "output_type": "execute_result"
    }
   ],
   "source": [
    "#Q1 '''Telephone calls arrive at an average rate of 5 \n",
    "#calls every 15 minutes at Slippers All Inclusive reservation desk.\n",
    "#What is the probability that less than 3 calls will arrive in any 15 minutes?\n",
    "\n",
    "\n",
    "poisson.pmf(3,5)\n"
   ]
  },
  {
   "cell_type": "code",
   "execution_count": 70,
   "id": "2ff0e1fc",
   "metadata": {},
   "outputs": [
    {
     "data": {
      "text/plain": [
       "0.0173512652366645"
      ]
     },
     "execution_count": 70,
     "metadata": {},
     "output_type": "execute_result"
    }
   ],
   "source": [
    "#Q2\n",
    "# If 3% of electronic units manufactured by a company are defective.\n",
    "#Find the probability that in a sample of 200 units, \n",
    "#less than 2 bulbs are defective.  \n",
    "#p=3/100=0.03 n=200\n",
    "\n",
    "poisson.pmf(0,6)+poisson.pmf(1,6)"
   ]
  },
  {
   "cell_type": "code",
   "execution_count": 71,
   "id": "38d9df09",
   "metadata": {},
   "outputs": [
    {
     "data": {
      "text/plain": [
       "0.16803135574154085"
      ]
     },
     "execution_count": 71,
     "metadata": {},
     "output_type": "execute_result"
    }
   ],
   "source": [
    "#Q3 As only 3 students came to attend the class today, \n",
    "#find the probability for exactly 4 students to attend the classes tomorrow. doubttttt in mean\n",
    "poisson.pmf(4,3)"
   ]
  },
  {
   "cell_type": "code",
   "execution_count": 73,
   "id": "50de278f",
   "metadata": {},
   "outputs": [
    {
     "data": {
      "text/plain": [
       "0.03608940886309672"
      ]
     },
     "execution_count": 73,
     "metadata": {},
     "output_type": "execute_result"
    }
   ],
   "source": [
    "#Q4 In a cafe, the customer arrives at a mean rate of 2 per min. \n",
    "#Find the probability of arrival of 5 customers in 1 minute using the \n",
    "#Poisson distribution formula.\n",
    "\n",
    "poisson.pmf(5,2)"
   ]
  },
  {
   "cell_type": "code",
   "execution_count": 74,
   "id": "fe21201f",
   "metadata": {},
   "outputs": [
    {
     "data": {
      "text/plain": [
       "0.0033336819930677277"
      ]
     },
     "execution_count": 74,
     "metadata": {},
     "output_type": "execute_result"
    }
   ],
   "source": [
    "#Q5An automobile company has average defects per unit (DPU) 0f 0.3, what is the probability they would find 3 defects in a vehicle? Here we can use Poisson distribution to calculate the probability.\n",
    "poisson.pmf(3,0.3)"
   ]
  },
  {
   "cell_type": "code",
   "execution_count": 75,
   "id": "cd24d06f",
   "metadata": {},
   "outputs": [
    {
     "data": {
      "text/plain": [
       "0.07160440945982202"
      ]
     },
     "execution_count": 75,
     "metadata": {},
     "output_type": "execute_result"
    }
   ],
   "source": [
    "#Q9 If the random variable X follows a Poisson distribution with mean 3.4, \n",
    "#find P (X = 6) .\n",
    "poisson.pmf(6,3.4)\n"
   ]
  },
  {
   "cell_type": "code",
   "execution_count": 77,
   "id": "059b7853",
   "metadata": {},
   "outputs": [
    {
     "data": {
      "text/plain": [
       "0.615960654833063"
      ]
     },
     "execution_count": 77,
     "metadata": {},
     "output_type": "execute_result"
    }
   ],
   "source": [
    "#Q10 A Council is considering whether to base a recovery \n",
    "#vehicle on a stretch of road to help clear incidents as quickly as possible. \n",
    "#The road concerned carries over 5000 vehicles during the peak rush hour period. \n",
    "#Records show that, on average, the number of incidents during the morning rush hour is 5. \n",
    "#The Council won’t base a vehicle on the road if the probability of having \n",
    "#more than 5 incidents in any one morning is less than 30%. \n",
    "#Based on this information should the Council provide a vehicle? \n",
    "\n",
    "poisson.pmf(0,5)+poisson.pmf(1,5)+poisson.pmf(2,5)+poisson.pmf(3,5)+poisson.pmf(4,5)+poisson.pmf(5,5)"
   ]
  },
  {
   "cell_type": "code",
   "execution_count": 80,
   "id": "7dc6aa19",
   "metadata": {},
   "outputs": [
    {
     "name": "stdout",
     "output_type": "stream",
     "text": [
      "0.7254449533096048\n",
      "0.2745550466903952\n"
     ]
    }
   ],
   "source": [
    "#Q11 A customer help center receives on average 3.5 calls every hour.\n",
    "#a) What is the probability that it will receive at most 4 calls every hour?\n",
    "#b) What is the probability that it will receive at least 5 calls every hour?\n",
    "a=poisson.pmf(0,3.5)+poisson.pmf(1,3.5)+poisson.pmf(2,3.5)+poisson.pmf(3,3.5)+poisson.pmf(4,3.5)\n",
    "b=1-a\n",
    "print(a)\n",
    "print(b)"
   ]
  },
  {
   "cell_type": "code",
   "execution_count": 79,
   "id": "f7526727",
   "metadata": {},
   "outputs": [
    {
     "data": {
      "text/plain": [
       "0.10109042919131071"
      ]
     },
     "execution_count": 79,
     "metadata": {},
     "output_type": "execute_result"
    }
   ],
   "source": [
    "#Q12 An average of 0.61 soldiers died by horse kicks per year in each Prussian army corps. You want to calculate the probability that exactly two soldiers died in the VII Army Corps in 1898, assuming that the number of horse kick deaths per year follows a Poisson distribution.\n",
    "#13)Pansare Komal\n",
    "#The mean number of power outages in the city of Brunswick is 4 per year. Find the probability that in a given year,\n",
    "#a)there are exactly 3 outages,\n",
    "#b)there are more than 3 outages.\n",
    "\n",
    "poisson.pmf(2,0.61)\n"
   ]
  },
  {
   "cell_type": "code",
   "execution_count": 91,
   "id": "c3365946",
   "metadata": {},
   "outputs": [
    {
     "name": "stdout",
     "output_type": "stream",
     "text": [
      "0.19536681481316454\n",
      "0.5665298796332912\n"
     ]
    }
   ],
   "source": [
    "#Q13 The mean number of power outages in the city of Brunswick is 4 per year. Find the probability that in a given year,\n",
    "#a)there are exactly 3 outages,\n",
    "#b)there are more than 3 outages.\n",
    "\n",
    "a=poisson.pmf(3,4)\n",
    "b=1-(poisson.pmf(0,4)+poisson.pmf(1,4)+poisson.pmf(2,4)+poisson.pmf(3,4))\n",
    "print(a)\n",
    "print(b)"
   ]
  },
  {
   "cell_type": "code",
   "execution_count": 93,
   "id": "4760b10d",
   "metadata": {},
   "outputs": [
    {
     "data": {
      "text/plain": [
       "0.43347012036670884"
      ]
     },
     "execution_count": 93,
     "metadata": {},
     "output_type": "execute_result"
    }
   ],
   "source": [
    "#Q14  manufacturer knows that the bulb he makes consists of 2% of bulbs as defective.\n",
    "#If he makes 200 bulbs then what is the probability that less than 4 bulbs are defective.\n",
    "\n",
    "poisson.pmf(0,4)+poisson.pmf(1,4)+poisson.pmf(2,4)+poisson.pmf(3,4)\n",
    "\n",
    "#poisson.cdf(3,4)"
   ]
  },
  {
   "cell_type": "markdown",
   "id": "5d15ed9c",
   "metadata": {},
   "source": [
    "# Geometric distribution"
   ]
  },
  {
   "cell_type": "code",
   "execution_count": null,
   "id": "4fc1cee0",
   "metadata": {},
   "outputs": [],
   "source": [
    "Suppose you are playing a game of darts. The probability of success is 0.4.\n",
    "What is the probability that you\n",
    "will hit the bullseye on the 3rd try?"
   ]
  },
  {
   "cell_type": "code",
   "execution_count": 11,
   "id": "d1cb708a",
   "metadata": {},
   "outputs": [
    {
     "data": {
      "text/plain": [
       "0.14400000000000002"
      ]
     },
     "execution_count": 11,
     "metadata": {},
     "output_type": "execute_result"
    }
   ],
   "source": [
    "nbinom.pmf(k=2, n=1, p=0.4)"
   ]
  },
  {
   "cell_type": "code",
   "execution_count": 94,
   "id": "ad8b0f8e",
   "metadata": {},
   "outputs": [
    {
     "data": {
      "text/plain": [
       "0.03675459453125"
      ]
     },
     "execution_count": 94,
     "metadata": {},
     "output_type": "execute_result"
    }
   ],
   "source": [
    "#Q2 A light bulb manufacturing factory finds 3 in every 60 light bulbs defective.\n",
    "#What is the probability that the first defective light bulb with be found when the 6th one\n",
    "#is tested?\n",
    "\n",
    "nbinom.pmf(k=6, n=1, p=3/60)"
   ]
  },
  {
   "cell_type": "code",
   "execution_count": 96,
   "id": "b17e100a",
   "metadata": {},
   "outputs": [
    {
     "data": {
      "text/plain": [
       "0.032614907904"
      ]
     },
     "execution_count": 96,
     "metadata": {},
     "output_type": "execute_result"
    }
   ],
   "source": [
    "#Q3 Suppose Max owns a lightbulb manufacturing company and determines\n",
    "#3 out of every 75 bulbs are defective.what is the probability that max will find \n",
    "#the first faulty lightbulb on the 6th one that he tested?\n",
    "\n",
    "nbinom.pmf(k=5, n=1, p=3/75)"
   ]
  },
  {
   "cell_type": "code",
   "execution_count": null,
   "id": "cf340a77",
   "metadata": {},
   "outputs": [],
   "source": [
    "#Q4 In a class there are 35% students  doing their homework regularly.\n",
    "#if from this class students are selected randomly ,\n",
    "#what is the probability that the 5th student’s homework is \n",
    "#the 1st that has completed their homework?\n",
    "\n"
   ]
  },
  {
   "cell_type": "code",
   "execution_count": 99,
   "id": "bb2e7d6c",
   "metadata": {},
   "outputs": [
    {
     "data": {
      "text/plain": [
       "0.33516736400849895"
      ]
     },
     "execution_count": 99,
     "metadata": {},
     "output_type": "execute_result"
    }
   ],
   "source": [
    "#Q5 Suppose it’s known that 4% of individuals who visit a certain bank are \n",
    "#visiting to file bankruptcy. Suppose a banker wants to know the probability \n",
    "#that he will meet with less than 10 people before encountering someone who is \n",
    "#filing for bankruptcy.\n",
    "\n",
    "nbinom.cdf(k=9, n=1, p=0.04)\n"
   ]
  },
  {
   "cell_type": "code",
   "execution_count": 101,
   "id": "643b7c84",
   "metadata": {},
   "outputs": [
    {
     "data": {
      "text/plain": [
       "0.0964506172839506"
      ]
     },
     "execution_count": 101,
     "metadata": {},
     "output_type": "execute_result"
    }
   ],
   "source": [
    "#Q6 Suppose a dice is repeatedly rolled until \"3\" is obtained. \n",
    "#Then the probability of getting \"3\" is p = 1 / 6 and the random variable, X, \n",
    "#can take on a value of 1, 2, 3, ...., until the first success is obtained.\n",
    "#This is an example of a geometric distribution with p = 1 / 6\n",
    "\n",
    "nbinom.pmf(k=3, n=1, p=1/6)"
   ]
  },
  {
   "cell_type": "code",
   "execution_count": 102,
   "id": "5de468ef",
   "metadata": {},
   "outputs": [
    {
     "data": {
      "text/plain": [
       "0.14400000000000002"
      ]
     },
     "execution_count": 102,
     "metadata": {},
     "output_type": "execute_result"
    }
   ],
   "source": [
    "#Q7 Suppose you are playing a game of darts. \n",
    "#The probability of success is 0.4.\n",
    "#What is the probability that you will hit the bullseye on the third try?\n",
    "\n",
    "nbinom.pmf(k=2, n=1, p=0.4)"
   ]
  },
  {
   "cell_type": "code",
   "execution_count": 103,
   "id": "e566ef0e",
   "metadata": {},
   "outputs": [
    {
     "data": {
      "text/plain": [
       "0.12799999999999997"
      ]
     },
     "execution_count": 103,
     "metadata": {},
     "output_type": "execute_result"
    }
   ],
   "source": [
    "#Q8 If your probability of success is 0.2, \n",
    "#what is the probability you meet an independent voter on your third try? \n",
    "#Inserting 0.2 as p and with X = 3, the probability density function becomes:\n",
    "\n",
    "nbinom.pmf(k=2, n=1, p=0.2)"
   ]
  },
  {
   "cell_type": "code",
   "execution_count": 104,
   "id": "f0879a52",
   "metadata": {},
   "outputs": [
    {
     "data": {
      "text/plain": [
       "0.0029296875000000004"
      ]
     },
     "execution_count": 104,
     "metadata": {},
     "output_type": "execute_result"
    }
   ],
   "source": [
    "#Q9 Matthew is a high school basketball player and a 75% free throw shooter.\n",
    "#Calculate what will be the probability that Matthew makes his first free throw \n",
    "#on his fifth shot?\n",
    "\n",
    "nbinom.pmf(k=4, n=1, p=0.75)"
   ]
  },
  {
   "cell_type": "code",
   "execution_count": 105,
   "id": "a199eeb7",
   "metadata": {},
   "outputs": [
    {
     "data": {
      "text/plain": [
       "0.019487165700000017"
      ]
     },
     "execution_count": 105,
     "metadata": {},
     "output_type": "execute_result"
    }
   ],
   "source": [
    "#Q10 You play a game of chance that you can either win or lose (there are no other possibilities)\n",
    "#until you lose. Your probability of losing is \n",
    "#p=0.57\n",
    "#. What is the probability that it takes five games until you lose?\n",
    "\n",
    "nbinom.pmf(k=4, n=1, p=0.57)\n",
    "#1,2,3,4,…,n . It can go on indefinitely."
   ]
  },
  {
   "cell_type": "markdown",
   "id": "de6e5858",
   "metadata": {},
   "source": [
    "# Bayes Theorem"
   ]
  },
  {
   "cell_type": "code",
   "execution_count": 5,
   "id": "f504d82c",
   "metadata": {},
   "outputs": [
    {
     "data": {
      "text/plain": [
       "0.5"
      ]
     },
     "execution_count": 5,
     "metadata": {},
     "output_type": "execute_result"
    }
   ],
   "source": [
    "#Q1\n",
    "'''A man is known to speak the truth ¾ times. He draws a card and reports it is King .\n",
    "Find the probability that it is actually a King.\n",
    "'''\n",
    "\n",
    "#p(A2)=1/4 ,  \n",
    "A1 = 3/4   # king card is drawn\n",
    "A2 = 1/4  #not  drawn\n",
    "B_A1 = 1/4 # say lie\n",
    "B_A2 =3/4 #say truth\n",
    "\n",
    "\n",
    "Prediction = ((A2*B_A2)/(A1*B_A1+A2*B_A2))\n",
    "Prediction"
   ]
  },
  {
   "cell_type": "code",
   "execution_count": 8,
   "id": "ad1e50bb",
   "metadata": {},
   "outputs": [
    {
     "data": {
      "text/plain": [
       "0.5"
      ]
     },
     "execution_count": 8,
     "metadata": {},
     "output_type": "execute_result"
    }
   ],
   "source": [
    "#Q2\n",
    "'''Assume that the chances of a person having a skin disease are 40%.\n",
    "Assuming that skin creams and drinking enough water reduces the risk of skin disease by 30% \n",
    "and prescription of a certain drug reduces its chance by 20%. \n",
    "At a time, a patient can choose any one of the two options with equal probabilities. \n",
    "It is given that after picking one of the options, the patient selected\n",
    "at random has the skin disease. Find the probability that the patient picked the option \n",
    "of skin screams and drinking enough water using the Bayes theorem.'''\n",
    "\n",
    "\n",
    "A1=0.40 #chaces\n",
    "A2=0.60 #no chance\n",
    "B_A1=0.30 #creame\n",
    "B_A2=0.20 #drug\n",
    "Prediction = ((A1*B_A1)/(A1*B_A1+A2*B_A2))\n",
    "Prediction"
   ]
  },
  {
   "cell_type": "code",
   "execution_count": 1,
   "id": "23dac2db",
   "metadata": {},
   "outputs": [
    {
     "data": {
      "text/plain": [
       "0.5882352941176471"
      ]
     },
     "execution_count": 1,
     "metadata": {},
     "output_type": "execute_result"
    }
   ],
   "source": [
    "''' A bag I contains 4 white and 6 black balls while another Bag II \n",
    "contains 4 white and 3 black balls. One ball is drawn at random from one of the bags, \n",
    "and it is found to be black. Find the probability that it was drawn from Bag I.\n",
    "'''\n",
    "\n",
    "A1=1/2\n",
    "A2=1/2\n",
    "B_A1=4/10\n",
    "B_A2=4/7\n",
    "prediction=(B_A2*A2)/(B_A1*A1+B_A2*A2)\n",
    "prediction"
   ]
  },
  {
   "cell_type": "code",
   "execution_count": 2,
   "id": "853ce8f0",
   "metadata": {},
   "outputs": [
    {
     "data": {
      "text/plain": [
       "0.3594771241830066"
      ]
     },
     "execution_count": 2,
     "metadata": {},
     "output_type": "execute_result"
    }
   ],
   "source": [
    "'''A bag contains 4 balls. Two balls drawn at random without replacement and are\n",
    "found to be blue.what is the probability that all balls in the bag are blue?\n",
    "'''\n",
    "\n",
    "A1=1/2\n",
    "A2=1/2\n",
    "B_A1=7/11\n",
    "B_A2=5/14\n",
    "prediction=(B_A2*A2)/(B_A1*A1+B_A2*A2)\n",
    "prediction"
   ]
  },
  {
   "cell_type": "code",
   "execution_count": null,
   "id": "e4ed28f0",
   "metadata": {},
   "outputs": [],
   "source": [
    "'''1% of a population have a certain disease and the remaining 99% are \n",
    "free from this disease. A test is used to detect this disease. \n",
    "This test is positive in 95% of the people with the disease and is also \n",
    "(falsely) positive in 2% of the people free from the disease.\n",
    "If a person, selected at random from this population, has tested positive, \n",
    "what is the probability that she/he has the disease?\n",
    "'''\n"
   ]
  },
  {
   "cell_type": "code",
   "execution_count": null,
   "id": "3f0a63a8",
   "metadata": {},
   "outputs": [],
   "source": [
    "'''If we have to calculate the probability of taking a blue ball from the \n",
    "second bag out of three different bags of balls, where each bag contains three \n",
    "different colour balls viz. red, blue, black.\n",
    "'''\n"
   ]
  },
  {
   "cell_type": "code",
   "execution_count": null,
   "id": "43b94b2b",
   "metadata": {},
   "outputs": [],
   "source": [
    "'''Given the following statistics, what is the probability that a woman has cancer if she has a positive mammogram result?\n",
    "One percent of women over 50 have breast cancer.\n",
    "Ninety percent of women who have breast cancer test positive on mammograms.\n",
    "Eight percent of women will have false positives\n",
    "'''"
   ]
  },
  {
   "cell_type": "code",
   "execution_count": 4,
   "id": "99ef43d5",
   "metadata": {},
   "outputs": [
    {
     "data": {
      "text/plain": [
       "0.6405228758169935"
      ]
     },
     "execution_count": 4,
     "metadata": {},
     "output_type": "execute_result"
    }
   ],
   "source": [
    "'''Amy has two bags. Bag I has 7 red and 2 blue balls and bag II has\n",
    "5 red and 9 blue balls. Amy draws a ball at random and it turns out to be red.\n",
    "Determine the probability that the ball was from the bag I using the Bayes theorem.\n",
    "'''\n",
    "\n",
    "A1=1/2\n",
    "A2=1/2\n",
    "B_A1=7/11\n",
    "B_A2=5/14\n",
    "prediction=(B_A1*A1)/(B_A1*A1+B_A2*A2)\n",
    "prediction"
   ]
  },
  {
   "cell_type": "code",
   "execution_count": null,
   "id": "ec2d7093",
   "metadata": {},
   "outputs": [],
   "source": [
    "'''Two urns identical in appearance, contain respectively 3 white and\n",
    "2 black balls and 2 white and 5 black balls . one urn is selected at random ,\n",
    "and a ball is drawn from it . \n",
    "what is the probability that it is black?'''"
   ]
  },
  {
   "cell_type": "code",
   "execution_count": 16,
   "id": "835d510c",
   "metadata": {},
   "outputs": [
    {
     "data": {
      "text/plain": [
       "0.01923076923076923"
      ]
     },
     "execution_count": 16,
     "metadata": {},
     "output_type": "execute_result"
    }
   ],
   "source": [
    "'''An insurance company insured 2000 scooter drivers, 4000 car drivers and\n",
    "6000 truck drivers. The probability of an accident involving a scooter driver ,\n",
    "car driver and a truck driver is 0.01, 0.03, 0.015. One of the\n",
    "insured persons meets with an accident. \n",
    "What is the probability that he is a scooter driver?'''\n",
    "A1=1/6\n",
    "A2=1/3\n",
    "A3=1/2\n",
    "B_A1=1/100\n",
    "B_A2=3/100\n",
    "B_A3=15/100\n",
    "prediction=(B_A1*A1)/(B_A1*A1+B_A2*A2+B_A3*A3)\n",
    "prediction"
   ]
  },
  {
   "cell_type": "code",
   "execution_count": null,
   "id": "c6403fa1",
   "metadata": {},
   "outputs": [],
   "source": [
    "'''Three urns contain 6 red, 4 black; 4 red, 6 black, and 5 red, 5 black balls respectively.\n",
    "One of the urns is selected at random and a ball is drawn from it.\n",
    "If the ball drawn is red, find the probability that it is drawn from the first urn.\n",
    "'''"
   ]
  },
  {
   "cell_type": "code",
   "execution_count": 8,
   "id": "794fa83a",
   "metadata": {},
   "outputs": [
    {
     "data": {
      "text/plain": [
       "0.5"
      ]
     },
     "execution_count": 8,
     "metadata": {},
     "output_type": "execute_result"
    }
   ],
   "source": [
    "'''A jar containing 8 marbles of which 4 red and 4 blue marbles are there. \n",
    "Find the probability of getting a red given the first one was red too.\n",
    "a) 4/13\n",
    "b) 2/11\n",
    "c) 3/7\n",
    "d) 8/15\n",
    "'''\n",
    "\n",
    "A1=4/8\n",
    "A2=3/7\n",
    "B_A1=3/7\n",
    "B_A2=4/8\n",
    "prediction=((B_A1*A1)/(B_A1*A1+B_A2*A2))\n",
    "prediction"
   ]
  },
  {
   "cell_type": "code",
   "execution_count": 13,
   "id": "1b3dc7f5",
   "metadata": {},
   "outputs": [
    {
     "data": {
      "text/plain": [
       "0.6666666666666666"
      ]
     },
     "execution_count": 13,
     "metadata": {},
     "output_type": "execute_result"
    }
   ],
   "source": [
    "'''Three persons A, B and C have applied for a job in a private company. \n",
    "The chance of their selections is in the ratio 1 : 2 : 4. \n",
    "The probabilities that A, B and C can introduce changes to improve the profits\n",
    "of the company are 0.8, 0.5 and 0.3, respectively. \n",
    "If the change does not take place, find the probability that it is due to the appointment of C.\n",
    "'''\n",
    "A1=1/3\n",
    "A2=1/3\n",
    "A3=1/3\n",
    "B_A1=0.6\n",
    "B_A2=0.4\n",
    "B_A3=0.5\n",
    "prediction=(B_A1*A1)/(B_A2*A2+B_A3*A3)\n",
    "prediction"
   ]
  },
  {
   "cell_type": "code",
   "execution_count": null,
   "id": "20613c6e",
   "metadata": {},
   "outputs": [],
   "source": [
    "'''Three identical boxes contain red and white balls.\n",
    "The first box contains 3 red and 2 white balls, \n",
    "the second box has 4 red and 5 white balls, and the third box has 2 red and 4 white balls.\n",
    "A box is chosen very randomly and a ball is drawn from it. \n",
    "If the ball that is drawn out is red, what will be the probability that the second box is chosen\n",
    "'''"
   ]
  },
  {
   "cell_type": "markdown",
   "id": "23ebeac4",
   "metadata": {},
   "source": [
    "# Addition theorem"
   ]
  },
  {
   "cell_type": "code",
   "execution_count": 3,
   "id": "be9f1074",
   "metadata": {},
   "outputs": [
    {
     "name": "stdout",
     "output_type": "stream",
     "text": [
      "Acomplement is 0.625\n",
      "AUB is 0.5\n"
     ]
    }
   ],
   "source": [
    "'''-If A and B are mutually exclusive events p(A)=⅜ and p(B)=⅛ ,the find\n",
    "       1)p(A’)\n",
    "       2)p(AUB) \n",
    "\n",
    "'''\n",
    "\n",
    "A=3/8\n",
    "B=1/8\n",
    "Acomp=1-A\n",
    "AUB=A+B\n",
    "print(\"Acomplement is\",Acomp)\n",
    "print(\"AUB is\",AUB)"
   ]
  },
  {
   "cell_type": "code",
   "execution_count": 5,
   "id": "947ae80e",
   "metadata": {},
   "outputs": [
    {
     "name": "stdout",
     "output_type": "stream",
     "text": [
      "AUB is 0.6666666666666666\n"
     ]
    }
   ],
   "source": [
    "'''If the probability of solving a problem by 2 students George and James are 1/2\n",
    "and 1/3 respectively then what is the probability of the problem to be solved.\n",
    "\n",
    "'''\n",
    "\n",
    "\n",
    "A=1/2\n",
    "B=1/3\n",
    "AnB=1/2*1/3\n",
    "AUB=1/2+1/3-AnB\n",
    "print(\"AUB is\",AUB)"
   ]
  },
  {
   "cell_type": "code",
   "execution_count": 6,
   "id": "e6fc58f2",
   "metadata": {},
   "outputs": [
    {
     "name": "stdout",
     "output_type": "stream",
     "text": [
      "AUB is 0.15384615384615385\n"
     ]
    }
   ],
   "source": [
    "'''What is the probability of drawing either a king or a queen in a single draw from a well \n",
    "shuffled pack of 52 cards?\n",
    "'''\n",
    "A=4/52\n",
    "B=4/52\n",
    "AnB=0\n",
    "AUB=A+B-AnB\n",
    "print(\"AUB is\",AUB)\n"
   ]
  },
  {
   "cell_type": "code",
   "execution_count": 7,
   "id": "d33686ce",
   "metadata": {},
   "outputs": [
    {
     "name": "stdout",
     "output_type": "stream",
     "text": [
      "AUB is 0.8999999999999999\n"
     ]
    }
   ],
   "source": [
    "'''A and B are two candidates seeking admission to IIT.\n",
    "The probability that A getting selected is 0.5, the probability of B getting selected is 0.7\n",
    "and the probability that both A and B getting selected is 0.3.\n",
    "What is the probability that it could be either candidate A or B.\n",
    "'''\n",
    "\n",
    "A=0.5\n",
    "B=0.7\n",
    "AnB=0.3\n",
    "AUB=A+B-AnB\n",
    "print(\"AUB is\",AUB)\n"
   ]
  },
  {
   "cell_type": "code",
   "execution_count": 8,
   "id": "2683c623",
   "metadata": {},
   "outputs": [
    {
     "name": "stdout",
     "output_type": "stream",
     "text": [
      "AUB is 0.30000000000000004\n"
     ]
    }
   ],
   "source": [
    "'''A bag contains 30 balls numbered from 1 to 30. One ball is drawn at random, \n",
    "find the probability that the number of the ball will be multiple of 5 or 9.\n",
    "\n",
    "'''\n",
    "a=5,10,15,20,25,30\n",
    "b=9,18,27\n",
    "A=6/30\n",
    "B=3/30\n",
    "AnB=0\n",
    "AUB=A+B-AnB\n",
    "print(\"AUB is\",AUB)\n"
   ]
  },
  {
   "cell_type": "code",
   "execution_count": 12,
   "id": "4e3a00c0",
   "metadata": {},
   "outputs": [
    {
     "name": "stdout",
     "output_type": "stream",
     "text": [
      "AUB is 0.3055555555555555\n"
     ]
    }
   ],
   "source": [
    "'''A die is thrown twice. Let A be the event, ‘First die shows 5’ and B be the event,\n",
    "‘second die shows 5’. Find P(A∪B) ..\n",
    "'''\n",
    "\n",
    "'''A = {(5, 1), (5, 2) (5, 3), (5, 4), (5, 5) (5, 6)} \n",
    "n(A) = 6 ⇒ P(A) = n(A)/n(S) = 6/36 and \n",
    "B = {(1, 5), (2, 5), (3, 5), (4, 5), (5, 5), (6, 5)}  \n",
    "n(B) = 6 ⇒ P(B) = n(B)/n(S) = 6/36 Also A ∩ B = {(5, 5)} ⇒ n (A ∩ B) = 1 \n",
    "'''\n",
    "A=6/36\n",
    "B=6/36\n",
    "AnB=1/36\n",
    "AUB=A+B-AnB\n",
    "print(\"AUB is\",AUB)\n"
   ]
  },
  {
   "cell_type": "code",
   "execution_count": 13,
   "id": "11a6cbc9",
   "metadata": {},
   "outputs": [
    {
     "name": "stdout",
     "output_type": "stream",
     "text": [
      "AUB is 0.5555555555555555\n"
     ]
    }
   ],
   "source": [
    "'''Two dice are tossed once. Find the probability of getting an even number on first dice \n",
    "or a total of 8.\n",
    "'''\n",
    "\n",
    "A=18/36\n",
    "B=5/36\n",
    "AnB=3/36\n",
    "AUB=A+B-AnB\n",
    "print(\"AUB is\",AUB)"
   ]
  },
  {
   "cell_type": "code",
   "execution_count": 17,
   "id": "03006015",
   "metadata": {},
   "outputs": [
    {
     "name": "stdout",
     "output_type": "stream",
     "text": [
      "AUB is 1.3333333333333333\n"
     ]
    }
   ],
   "source": [
    "'''A person can hit a target in 3 out 4 shots, whereas another \n",
    "person can hit the target in 2 out of 3 shots.\n",
    "Find the probability of the targets being hit at all when they both try.\n",
    "'''\n",
    "\n",
    "A=3/4\n",
    "B=2/3\n",
    "AnB=1/12\n",
    "AUB=A+B-AnB\n",
    "print(\"AUB is\",AUB)\n"
   ]
  },
  {
   "cell_type": "code",
   "execution_count": 34,
   "id": "71de5606",
   "metadata": {},
   "outputs": [
    {
     "name": "stdout",
     "output_type": "stream",
     "text": [
      " b is 0.65\n",
      "only b is 0.5\n",
      "b bar is 0.35\n",
      "only A is 0.19999999999999998\n"
     ]
    }
   ],
   "source": [
    "'''If A and B are two events associated with a random experiment for\n",
    "which P(A) = 0.35, P(A or B) = 0.85, and P(A and B) = 0.15. \n",
    "Find \n",
    "        (i) P(only B)\n",
    "        (ii) P(B') \n",
    "        (iii) P(only A)\n",
    "'''\n",
    "\n",
    "\n",
    "A=0.35\n",
    "AUB=0.85\n",
    "AnB=0.15\n",
    "\n",
    "B=-A+AnB+AUB\n",
    "\n",
    "onlyB  = B-AnB  \n",
    "Bbar  = 1 - B   \n",
    "Aonly = A - AnB \n",
    "print(\" b is\",B)\n",
    "print(\"only b is\",onlyB)\n",
    "print(\"b bar is\",Bbar)\n",
    "print(\"only A is\",Aonly)"
   ]
  },
  {
   "cell_type": "code",
   "execution_count": 35,
   "id": "dbe9926c",
   "metadata": {},
   "outputs": [
    {
     "name": "stdout",
     "output_type": "stream",
     "text": [
      "AUB is 0.6666666666666667\n"
     ]
    }
   ],
   "source": [
    "'''Consider an experiment of rolling a fair die .\n",
    "Let A be the event that an even number appears .\n",
    "B = a number bigger than 3 occurs . \n",
    "Find the probability that the number appearing on the \n",
    "uppermost face is either even or bigger than 3..\n",
    "'''\n",
    "\n",
    "A=3/6\n",
    "B=3/6\n",
    "AnB=2/6\n",
    "AUB=A+B-AnB\n",
    "print(\"AUB is\",AUB)\n"
   ]
  },
  {
   "cell_type": "code",
   "execution_count": 36,
   "id": "e1cebaf2",
   "metadata": {},
   "outputs": [
    {
     "name": "stdout",
     "output_type": "stream",
     "text": [
      "AUB is 0.4\n"
     ]
    }
   ],
   "source": [
    "'''A number is selected from the first 20 natural numbers.\n",
    "Find the probability that it would be divisible by 3 or 7?\n",
    "a) 19/46\n",
    "b) 24/67\n",
    "c) 12/37\n",
    "d) 7/20\n",
    "'''\n",
    "\n",
    "A=6/20\n",
    "B=2/20\n",
    "AnB=0\n",
    "AUB=A+B-AnB\n",
    "print(\"AUB is\",AUB)"
   ]
  },
  {
   "cell_type": "code",
   "execution_count": 38,
   "id": "ac408b6e",
   "metadata": {},
   "outputs": [
    {
     "name": "stdout",
     "output_type": "stream",
     "text": [
      "AUB is 0.625\n",
      "notAB is 0.375\n"
     ]
    }
   ],
   "source": [
    "'''If A and B are two events such thatP (A) = 1/4 , P (B) = 1/2 and P(A and B)= 1/8,\n",
    "find (i) P (A or B) \n",
    "(ii) P(not A and not B).'''\n",
    "\n",
    "A=1/4\n",
    "B=1/2\n",
    "AnB=1/8\n",
    "AUB=A+B-AnB\n",
    "notAB=1-AUB\n",
    "print(\"AUB is\",AUB)\n",
    "print(\"notAB is\",notAB)"
   ]
  },
  {
   "cell_type": "markdown",
   "id": "147464e6",
   "metadata": {},
   "source": [
    "# Multiplication"
   ]
  },
  {
   "cell_type": "code",
   "execution_count": 41,
   "id": "9be779bc",
   "metadata": {},
   "outputs": [
    {
     "name": "stdout",
     "output_type": "stream",
     "text": [
      "AnB 0.5526315789473684\n"
     ]
    }
   ],
   "source": [
    "'''A bag contains 15 red and 5 blue balls.without the replacement of the balls\n",
    ",two balls       are drawn from a  bag one after the other.\n",
    "what is the probability of picking both the balls as red?\n",
    "\n",
    "'''\n",
    "\n",
    "A=15/20\n",
    "B=14/19\n",
    "AnB=A*B\n",
    "\n",
    "print(\"AnB\",C)\n",
    "\n"
   ]
  },
  {
   "cell_type": "code",
   "execution_count": 43,
   "id": "c85d11eb",
   "metadata": {},
   "outputs": [
    {
     "name": "stdout",
     "output_type": "stream",
     "text": [
      "AnB 0.027777777777777776\n"
     ]
    }
   ],
   "source": [
    "'''\n",
    "What is the probability of getting a 51 and then a 2 with the normal 6-sided die?\n",
    "'''\n",
    "A=1/6\n",
    "B=1/6\n",
    "AnB=A*B\n",
    "\n",
    "print(\"AnB\",AnB)\n",
    "\n"
   ]
  },
  {
   "cell_type": "code",
   "execution_count": 44,
   "id": "d4fbc633",
   "metadata": {},
   "outputs": [
    {
     "name": "stdout",
     "output_type": "stream",
     "text": [
      "AnB 0.006033182503770739\n"
     ]
    }
   ],
   "source": [
    "'''cards are Two selected without replacing the first card from the deck. \n",
    "Find the probability of selecting a king and then selecting a queen.\n",
    "'''\n",
    "A=4/52\n",
    "B=4/51\n",
    "\n",
    "AnB=A*B\n",
    "print(\"AnB\",AnB)\n",
    "\n",
    "\n"
   ]
  },
  {
   "cell_type": "code",
   "execution_count": 45,
   "id": "f7119481",
   "metadata": {},
   "outputs": [
    {
     "name": "stdout",
     "output_type": "stream",
     "text": [
      "AnB 0.058823529411764705\n"
     ]
    }
   ],
   "source": [
    "''' Find the probability of drawing a diamond card in each of the \n",
    "two consecutive draws from a well shuffled pack of cards, if the card drawn is\n",
    "not replaced after the first draw?'''\n",
    "\n",
    "A=13/51\n",
    "B=12/52\n",
    "\n",
    "AnB=A*B\n",
    "print(\"AnB\",AnB)\n"
   ]
  },
  {
   "cell_type": "code",
   "execution_count": 46,
   "id": "693a4074",
   "metadata": {},
   "outputs": [
    {
     "name": "stdout",
     "output_type": "stream",
     "text": [
      "AnB 0.21052631578947367\n"
     ]
    }
   ],
   "source": [
    "'''There are 19 tickets, numbered from 1 to 19. A ticket is drawn and then another \n",
    "ticket is drawn without replacement.\n",
    "Find the probability that both tickets will show even numbers.'''\n",
    "\n",
    "A=9/19\n",
    "B=8/18\n",
    "AnB=A*B\n",
    "print(\"AnB\",AnB)"
   ]
  },
  {
   "cell_type": "code",
   "execution_count": 47,
   "id": "039f2105",
   "metadata": {},
   "outputs": [
    {
     "name": "stdout",
     "output_type": "stream",
     "text": [
      "AnB 0.1388888888888889\n"
     ]
    }
   ],
   "source": [
    "'''A bag contains 4 red balls, 3 white balls and 5 black balls.\n",
    "Two balls are drawn one after the other with replacement. \n",
    "Find the probability that first is red and the second is black.\n",
    "\n",
    "'''\n",
    "\n",
    "A=4/12\n",
    "B=5/12\n",
    "AnB=A*B\n",
    "\n",
    "print(\"AnB\",AnB)"
   ]
  },
  {
   "cell_type": "code",
   "execution_count": 48,
   "id": "8c63aada",
   "metadata": {},
   "outputs": [
    {
     "name": "stdout",
     "output_type": "stream",
     "text": [
      "AnB 0.24305555555555558\n"
     ]
    }
   ],
   "source": [
    "''' A bag contains 5 green and 7 red balls. Two balls are drawn. \n",
    "Find the probability that one is green and the other is red.\n",
    "\n",
    "'''\n",
    "\n",
    "A=5/12\n",
    "B=7/12\n",
    "AnB=A*B\n",
    "\n",
    "print(\"AnB\",AnB)"
   ]
  },
  {
   "cell_type": "code",
   "execution_count": 49,
   "id": "35b765f5",
   "metadata": {},
   "outputs": [
    {
     "name": "stdout",
     "output_type": "stream",
     "text": [
      "AnB 0.16483516483516483\n"
     ]
    }
   ],
   "source": [
    "'''It is 8:5 against the wife who is 40 years old living till she is 70 and 4:3\n",
    "against her husband now 50 living till he is 80. Find the probability that \n",
    "(i) Both will be alive,\n",
    "(ii) None will be alive,\n",
    "(iii) Only wife will be alive,\n",
    "(iv) Only husband will be alive\n",
    "'''\n",
    "\n",
    "A=5/13\n",
    "B=3/7\n",
    "AnB=A*B\n",
    "\n",
    "print(\"AnB\",AnB)"
   ]
  },
  {
   "cell_type": "code",
   "execution_count": 50,
   "id": "a2b102aa",
   "metadata": {},
   "outputs": [
    {
     "name": "stdout",
     "output_type": "stream",
     "text": [
      "AnB 0.2857142857142857\n"
     ]
    }
   ],
   "source": [
    "''' A bag contains 6 black marbles and 4 blue marbles. Two marbles are drawn from the bag, \n",
    "without replacement. What is the probability that both marbles are blue?\n",
    "'''\n",
    "A=3/7#doubt\n",
    "B=2/3\n",
    "AnB=A*B\n",
    "print(\"AnB\",AnB)"
   ]
  },
  {
   "cell_type": "code",
   "execution_count": 51,
   "id": "374a6d7f",
   "metadata": {},
   "outputs": [
    {
     "name": "stdout",
     "output_type": "stream",
     "text": [
      "AnB 0.05555555555555555\n"
     ]
    }
   ],
   "source": [
    "'''A lot contains  12 items of which 4 are defective.Two items are drawn at random\n",
    "from the lot one after other (without replacement ).find the probability that both the\n",
    "items are defective .\n",
    "\n",
    "'''\n",
    "A=4/12#doubt\n",
    "B=2/12\n",
    "AnB=A*B\n",
    "\n",
    "print(\"AnB\",AnB)"
   ]
  }
 ],
 "metadata": {
  "kernelspec": {
   "display_name": "Python 3 (ipykernel)",
   "language": "python",
   "name": "python3"
  },
  "language_info": {
   "codemirror_mode": {
    "name": "ipython",
    "version": 3
   },
   "file_extension": ".py",
   "mimetype": "text/x-python",
   "name": "python",
   "nbconvert_exporter": "python",
   "pygments_lexer": "ipython3",
   "version": "3.9.12"
  }
 },
 "nbformat": 4,
 "nbformat_minor": 5
}
